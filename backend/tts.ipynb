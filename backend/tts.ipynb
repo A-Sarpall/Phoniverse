{
 "cells": [
  {
   "cell_type": "code",
   "execution_count": 13,
   "id": "0d7af0df",
   "metadata": {},
   "outputs": [],
   "source": [
    "from elevenlabs.client import ElevenLabs\n",
    "from elevenlabs import play\n",
    "\n",
    "client = ElevenLabs(api_key=\"sk_ddccc8ebaa81fead91e8f93921da565e26d3e49fb035f3c6\")\n",
    "\n",
    "# Cassidy: 56AoDkrOh6qfVPDXZ7Pt\n",
    "audio = client.text_to_speech.convert(\n",
    "    text=\"Ssssssss\",\n",
    "    voice_id=\"56AoDkrOh6qfVPDXZ7Pt\",\n",
    "    model_id=\"eleven_multilingual_v2\",\n",
    "    output_format=\"mp3_44100_128\",\n",
    "    voice_settings={\"speed\": 0.8, \"stability\": 0.95, \"similarity_boost\": 0.75, \"style\": 0.0},\n",
    ")\n",
    "\n",
    "# Convert generator to bytes\n",
    "audio_bytes = b\"\".join(audio)\n",
    "\n",
    "# save audio to file\n",
    "with open(\"sound_samples/s_sound.mp3\", \"wb\") as f:\n",
    "    f.write(audio_bytes)\n",
    "play.play(audio_bytes)"
   ]
  },
  {
   "cell_type": "code",
   "execution_count": null,
   "id": "a9499743",
   "metadata": {},
   "outputs": [],
   "source": [
    "def tts(text, voice_id=\"56AoDkrOh6qfVPDXZ7Pt\", speed=0.8, stability=0.95, similarity_boost=0.75, style=0.0):\n",
    "    audio = client.text_to_speech.convert(\n",
    "        text=text,\n",
    "        voice_id=voice_id,\n",
    "        model_id=\"eleven_multilingual_v2\",\n",
    "        output_format=\"mp3_44100_128\",\n",
    "        voice_settings={\"speed\": speed, \"stability\": stability, \"similarity_boost\": similarity_boost, \"style\": style}\n",
    "    )\n",
    "    # Convert generator to bytes\n",
    "    audio_bytes = b''.join(audio)\n",
    "    # save audio to file\n",
    "    with open(\"sound_samples/output.mp3\", \"wb\") as f:\n",
    "        f.write(audio_bytes)\n",
    "    return audio_bytes"
   ]
  },
  {
   "cell_type": "code",
   "execution_count": 16,
   "id": "cfde9b32",
   "metadata": {},
   "outputs": [],
   "source": [
    "from pydub import AudioSegment\n",
    "\n",
    "def stitch_audios(audio_list):\n",
    "    curent_audio = AudioSegment.empty()\n",
    "    for audio in audio_list:\n",
    "        segment = AudioSegment.from_file(audio, format=\"mp3\")\n",
    "        pause_duration = 500  # 500 milliseconds pause\n",
    "        pause = AudioSegment.silent(duration=pause_duration)\n",
    "        curent_audio += pause\n",
    "        curent_audio += segment\n",
    "    return curent_audio"
   ]
  },
  {
   "cell_type": "code",
   "execution_count": 17,
   "id": "6a881c1f",
   "metadata": {},
   "outputs": [],
   "source": [
    "def generate_clone(audio):\n",
    "    # Convert generator to bytes if needed\n",
    "    if hasattr(audio, '__iter__') and not isinstance(audio, (bytes, bytearray)):\n",
    "        audio_bytes = b''.join(audio)\n",
    "    else:\n",
    "        audio_bytes = audio\n",
    "    \n",
    "    # save audio to file\n",
    "    with open(\"sound_samples/clone_input.mp3\", \"wb\") as f:\n",
    "        f.write(audio_bytes)\n",
    "\n",
    "    voice = client.voices.ivc.create(\n",
    "        name=\"userClone\",\n",
    "        files=[\"sound_samples/clone_input.mp3\"],\n",
    "        description=\"The user's custom voice clone\",\n",
    "        remove_background_noise=True\n",
    "    )\n",
    "    # save voice id to file\n",
    "    with open(\"sound_samples/clone_voice_id.txt\", \"w\") as f:\n",
    "        f.write(voice.voice_id)\n",
    "    return voice"
   ]
  },
  {
   "cell_type": "code",
   "execution_count": 21,
   "id": "2dbbf690",
   "metadata": {},
   "outputs": [],
   "source": [
    "# play.play(tts(\"This is a test of the text to speech system.\"))\n",
    "stitched_audio = stitch_audios([\"sound_samples/test_phrase.mp3\", \"sound_samples/s_sound.mp3\"])\n",
    "stiched_audio_bytes = stitched_audio.export(format=\"mp3\").read()\n",
    "play.play(stiched_audio_bytes)"
   ]
  }
 ],
 "metadata": {
  "kernelspec": {
   "display_name": "hacktx25",
   "language": "python",
   "name": "python3"
  },
  "language_info": {
   "codemirror_mode": {
    "name": "ipython",
    "version": 3
   },
   "file_extension": ".py",
   "mimetype": "text/x-python",
   "name": "python",
   "nbconvert_exporter": "python",
   "pygments_lexer": "ipython3",
   "version": "3.11.13"
  }
 },
 "nbformat": 4,
 "nbformat_minor": 5
}
