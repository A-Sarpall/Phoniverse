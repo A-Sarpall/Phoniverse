{
 "cells": [
  {
   "cell_type": "code",
   "execution_count": 1,
   "id": "0d7af0df",
   "metadata": {},
   "outputs": [],
   "source": [
    "from elevenlabs.client import ElevenLabs\n",
    "from elevenlabs import play\n",
    "import os\n",
    "from dotenv import load_dotenv\n",
    "\n",
    "# Load environment variables from .env file\n",
    "load_dotenv()\n",
    "\n",
    "# Get API key from environment variable\n",
    "client = ElevenLabs(api_key=os.getenv(\"ELEVENLABS_API_KEY\"))\n",
    "\n",
    "# Cassidy: 56AoDkrOh6qfVPDXZ7Pt\n",
    "audio = client.text_to_speech.convert(\n",
    "    text=\"Ssssssss\",\n",
    "    voice_id=\"56AoDkrOh6qfVPDXZ7Pt\",\n",
    "    model_id=\"eleven_multilingual_v2\",\n",
    "    output_format=\"mp3_44100_128\",\n",
    "    voice_settings={\"speed\": 0.8, \"stability\": 0.95, \"similarity_boost\": 0.75, \"style\": 0.0},\n",
    ")\n",
    "\n",
    "# Convert generator to bytes\n",
    "audio_bytes = b\"\".join(audio)\n",
    "\n",
    "# save audio to file\n",
    "with open(\"sound_samples/s_sound.mp3\", \"wb\") as f:\n",
    "    f.write(audio_bytes)\n",
    "play.play(audio_bytes)"
   ]
  },
  {
   "cell_type": "code",
   "execution_count": null,
   "id": "a9499743",
   "metadata": {},
   "outputs": [],
   "source": [
    "def tts(text, voice_id=\"56AoDkrOh6qfVPDXZ7Pt\", speed=0.8, stability=0.95, similarity_boost=0.75, style=0.0):\n",
    "    audio = client.text_to_speech.convert(\n",
    "        text=text,\n",
    "        voice_id=voice_id,\n",
    "        model_id=\"eleven_multilingual_v2\",\n",
    "        output_format=\"mp3_44100_128\",\n",
    "        voice_settings={\"speed\": speed, \"stability\": stability, \"similarity_boost\": similarity_boost, \"style\": style}\n",
    "    )\n",
    "    # Convert generator to bytes\n",
    "    audio_bytes = b''.join(audio)\n",
    "    # save audio to file\n",
    "    with open(\"sound_samples/output.mp3\", \"wb\") as f:\n",
    "        f.write(audio_bytes)\n",
    "    return audio_bytes"
   ]
  },
  {
   "cell_type": "code",
   "execution_count": 16,
   "id": "cfde9b32",
   "metadata": {},
   "outputs": [],
   "source": [
    "from pydub import AudioSegment\n",
    "\n",
    "def stitch_audios(audio_list):\n",
    "    curent_audio = AudioSegment.empty()\n",
    "    for audio in audio_list:\n",
    "        segment = AudioSegment.from_file(audio, format=\"mp3\")\n",
    "        pause_duration = 500  # 500 milliseconds pause\n",
    "        pause = AudioSegment.silent(duration=pause_duration)\n",
    "        curent_audio += pause\n",
    "        curent_audio += segment\n",
    "    return curent_audio"
   ]
  },
  {
   "cell_type": "code",
   "execution_count": 3,
   "id": "870ccaac",
   "metadata": {},
   "outputs": [
    {
     "name": "stdout",
     "output_type": "stream",
     "text": [
      "API Key loaded: sk_1e963ee...\n"
     ]
    }
   ],
   "source": [
    "import os\n",
    "\n",
    "api_key = os.getenv(\"ELEVENLABS_API_KEY\")\n",
    "\n",
    "# Debug: Check if API key is loaded\n",
    "print(f\"API Key loaded: {api_key[:10]}...\" if api_key else \"API Key NOT FOUND!\")"
   ]
  },
  {
   "cell_type": "code",
   "execution_count": 7,
   "id": "6a881c1f",
   "metadata": {},
   "outputs": [],
   "source": [
    "from io import BytesIO\n",
    "\n",
    "def generate_clone(audio):\n",
    "    # Convert generator to bytes if needed\n",
    "    if hasattr(audio, '__iter__') and not isinstance(audio, (bytes, bytearray)):\n",
    "        audio_bytes = b''.join(audio)\n",
    "    else:\n",
    "        audio_bytes = audio\n",
    "    \n",
    "    # save audio to file\n",
    "    with open(\"sound_samples/clone_input.mp3\", \"wb\") as f:\n",
    "        f.write(audio_bytes)\n",
    "\n",
    "    with open(\"sound_samples/clone_input.mp3\", \"rb\") as audio_file:\n",
    "        voice = client.voices.ivc.create(\n",
    "            name=\"userClone\",\n",
    "            files=[audio_file],  # Pass the open file handle\n",
    "            description=\"The user's custom voice clone\",\n",
    "            remove_background_noise=True\n",
    "        )\n",
    "    \n",
    "    # save voice id to file\n",
    "    with open(\"sound_samples/clone_voice_id.txt\", \"w\") as f:\n",
    "        f.write(voice.voice_id)\n",
    "    return voice"
   ]
  },
  {
   "cell_type": "code",
   "execution_count": 21,
   "id": "2dbbf690",
   "metadata": {},
   "outputs": [],
   "source": [
    "# play.play(tts(\"This is a test of the text to speech system.\"))\n",
    "stitched_audio = stitch_audios([\"sound_samples/test_phrase.mp3\", \"sound_samples/s_sound.mp3\"])\n",
    "stiched_audio_bytes = stitched_audio.export(format=\"mp3\").read()\n",
    "play.play(stiched_audio_bytes)"
   ]
  },
  {
   "cell_type": "code",
   "execution_count": 8,
   "id": "4971f529",
   "metadata": {},
   "outputs": [],
   "source": [
    "# from tts import tts, generate_clone\n",
    "# from pydub import AudioSegment\n",
    "# from io import BytesIO\n",
    "# import librosa\n",
    "# from tts import generate_clone\n",
    "\n",
    "# Just read the file directly - no conversion needed!\n",
    "audio = open(\"sound_samples/welcome_speech.mp3\", \"rb\")\n",
    "audio_bytes = audio.read()\n",
    "voice = generate_clone(audio_bytes)"
   ]
  },
  {
   "cell_type": "markdown",
   "id": "a885039b",
   "metadata": {},
   "source": [
    "## Voice Cloning Requirements\n",
    "\n",
    "ElevenLabs voice cloning requires:\n",
    "- **Minimum 1 minute** of audio (ideally 3-5 minutes)\n",
    "- **Clear speech** with one voice only\n",
    "- **Minimal background noise**\n",
    "\n",
    "The `welcome_speech.mp3` file might be too short. Let's check its duration first."
   ]
  },
  {
   "cell_type": "code",
   "execution_count": null,
   "id": "b9fb5523",
   "metadata": {},
   "outputs": [],
   "source": [
    "# Check audio duration\n",
    "import librosa\n",
    "\n",
    "audio_path = \"sound_samples/welcome_speech.mp3\"\n",
    "y, sr = librosa.load(audio_path)\n",
    "duration = librosa.get_duration(y=y, sr=sr)\n",
    "print(f\"Audio duration: {duration:.2f} seconds ({duration/60:.2f} minutes)\")\n",
    "print(f\"Sample rate: {sr} Hz\")\n",
    "print(f\"Audio shape: {y.shape}\")\n",
    "\n",
    "# ElevenLabs requires at least 60 seconds (1 minute)\n",
    "if duration < 60:\n",
    "    print(f\"\\n⚠️  WARNING: Audio is too short for voice cloning!\")\n",
    "    print(f\"   Minimum required: 60 seconds\")\n",
    "    print(f\"   Your audio: {duration:.2f} seconds\")\n",
    "    print(f\"   You need {60 - duration:.2f} more seconds\")\n",
    "else:\n",
    "    print(f\"\\n✅ Audio duration is sufficient for voice cloning\")"
   ]
  }
 ],
 "metadata": {
  "kernelspec": {
   "display_name": "hacktx25",
   "language": "python",
   "name": "python3"
  },
  "language_info": {
   "codemirror_mode": {
    "name": "ipython",
    "version": 3
   },
   "file_extension": ".py",
   "mimetype": "text/x-python",
   "name": "python",
   "nbconvert_exporter": "python",
   "pygments_lexer": "ipython3",
   "version": "3.11.13"
  }
 },
 "nbformat": 4,
 "nbformat_minor": 5
}
